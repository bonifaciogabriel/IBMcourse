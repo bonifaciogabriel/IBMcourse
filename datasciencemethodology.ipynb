{
 "cells": [
  {
   "cell_type": "markdown",
   "metadata": {},
   "source": [
    "# Data Science Methology final assignment"
   ]
  },
  {
   "cell_type": "markdown",
   "metadata": {},
   "source": [
    "### Which topic did you choose to apply the data science methodology to?\n",
    "\n",
    "I choose the credit cards, because is the most related topic with my finance and actuarial studies."
   ]
  },
  {
   "cell_type": "markdown",
   "metadata": {},
   "source": [
    "The question is, \"can we calculate a limit in how much money a people have in his credit card?\"\n",
    "\n",
    "The main problem for a bank is, to create a model to know the limit for each person. The question is how much money wa can put for a limit for each client to have in a suitable situation."
   ]
  },
  {
   "cell_type": "markdown",
   "metadata": {},
   "source": [
    "### Following the data science methodology:\n",
    "\n",
    "1. Analytic approach\n",
    "2. Data requirements\n",
    "3. Data collection\n",
    "4. Data undestanding and preparation\n",
    "5. Modeling and evaluation\n",
    "\n"
   ]
  },
  {
   "cell_type": "markdown",
   "metadata": {},
   "source": [
    "1. Analytic approach:\n",
    "A yes/no answer, if we will use a model to clasificate this.\n",
    "\n",
    "2. Data requirements:\n",
    "To create this classificacion model is neccesary information about the bank clientes. Which characteristichs, and limits in their credit cards have the people who pay and which characteristicas, and limits in their credits cards have who don´t pay.\n",
    "\n",
    "3. Data collection:\n",
    "We would use methods like descriptive statistics and data evuluation.\n",
    "\n",
    "4. Data understanding and preparation:\n",
    "We need to evaluate ours variables, its quality and which data we need for this model.\n",
    "\n",
    "5. Modeling and evaluation:\n",
    "Create a classificacion model, evaluate the perform, compare with data, if its is credible and have sense. After, carrying out the changes to have a suitable and optimal model."
   ]
  }
 ],
 "metadata": {
  "language_info": {
   "name": "python"
  }
 },
 "nbformat": 4,
 "nbformat_minor": 2
}
